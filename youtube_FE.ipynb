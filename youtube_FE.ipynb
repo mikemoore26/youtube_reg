{
 "cells": [
  {
   "cell_type": "code",
   "execution_count": 26,
   "metadata": {},
   "outputs": [],
   "source": [
    "def normalize_feature(data,feature):\n",
    "    q1 = data[feature].quantile(.25)\n",
    "    q3 = data[feature].quantile(.75)\n",
    "    IQR = (q3-q1)*1.5\n",
    "    \n",
    "    tar_min = q1 -IQR\n",
    "    tar_max = q3 + IQR\n",
    "    \n",
    "    return data[(data[feature] > tar_min) & (data[feature]<tar_max)]\n",
    "\n",
    "def convert_date(data,feature):\n",
    "    data[feature] = pd.to_datetime(data[feature])\n",
    "    data[feature + '_month'] = data[feature].dt.month\n",
    "    data[feature + '_year'] = data[feature].dt.year\n",
    "    return data\n"
   ]
  },
  {
   "cell_type": "code",
   "execution_count": 27,
   "metadata": {},
   "outputs": [
    {
     "name": "stdout",
     "output_type": "stream",
     "text": [
      "data/data.parquet\n",
      "data/train.parquet\n",
      "data/test.parquet\n",
      "data/data.csv\n"
     ]
    }
   ],
   "source": [
    "import pandas as pd\n",
    "import numpy as np\n",
    "import matplotlib.pyplot as plt\n",
    "import seaborn as sns\n",
    "\n",
    "import os\n",
    "\n",
    "for directory,_,filenames in os.walk('data/'):\n",
    "    for filename in filenames:\n",
    "        print(os.path.join(directory,filename))"
   ]
  },
  {
   "cell_type": "code",
   "execution_count": 28,
   "metadata": {},
   "outputs": [],
   "source": [
    "train = pd.read_parquet('data/train.parquet')\n",
    "test = pd.read_parquet('data/test.parquet')\n"
   ]
  },
  {
   "cell_type": "code",
   "execution_count": null,
   "metadata": {},
   "outputs": [],
   "source": []
  },
  {
   "cell_type": "code",
   "execution_count": 29,
   "metadata": {},
   "outputs": [],
   "source": [
    "train = train.dropna()\n",
    "test = test.dropna()"
   ]
  },
  {
   "cell_type": "code",
   "execution_count": 30,
   "metadata": {},
   "outputs": [
    {
     "data": {
      "text/plain": [
       "{'comment_count', 'dislikes', 'likes', 'target', 'view_count'}"
      ]
     },
     "execution_count": 30,
     "metadata": {},
     "output_type": "execute_result"
    }
   ],
   "source": [
    "set(train.columns) - set(test.columns)"
   ]
  },
  {
   "cell_type": "code",
   "execution_count": 31,
   "metadata": {},
   "outputs": [
    {
     "data": {
      "text/html": [
       "<div>\n",
       "<style scoped>\n",
       "    .dataframe tbody tr th:only-of-type {\n",
       "        vertical-align: middle;\n",
       "    }\n",
       "\n",
       "    .dataframe tbody tr th {\n",
       "        vertical-align: top;\n",
       "    }\n",
       "\n",
       "    .dataframe thead th {\n",
       "        text-align: right;\n",
       "    }\n",
       "</style>\n",
       "<table border=\"1\" class=\"dataframe\">\n",
       "  <thead>\n",
       "    <tr style=\"text-align: right;\">\n",
       "      <th></th>\n",
       "      <th>video_id</th>\n",
       "      <th>title</th>\n",
       "      <th>publishedAt</th>\n",
       "      <th>channelId</th>\n",
       "      <th>channelTitle</th>\n",
       "      <th>categoryId</th>\n",
       "      <th>trending_date</th>\n",
       "      <th>tags</th>\n",
       "      <th>view_count</th>\n",
       "      <th>likes</th>\n",
       "      <th>dislikes</th>\n",
       "      <th>comment_count</th>\n",
       "      <th>thumbnail_link</th>\n",
       "      <th>comments_disabled</th>\n",
       "      <th>ratings_disabled</th>\n",
       "      <th>description</th>\n",
       "      <th>id</th>\n",
       "      <th>duration_seconds</th>\n",
       "      <th>has_thumbnail</th>\n",
       "      <th>target</th>\n",
       "    </tr>\n",
       "  </thead>\n",
       "  <tbody>\n",
       "    <tr>\n",
       "      <th>40</th>\n",
       "      <td>n_8hxS_7Vis</td>\n",
       "      <td>Shannon reacts to Kyle Kuzma's game-winning sh...</td>\n",
       "      <td>2020-08-11 16:21:47+00:00</td>\n",
       "      <td>UCLXzq85ijg2LwJWFrz4pkmw</td>\n",
       "      <td>Skip and Shannon: UNDISPUTED</td>\n",
       "      <td>17</td>\n",
       "      <td>2020-08-12</td>\n",
       "      <td>fox|fox sports|fs1|fox sports 1|undisputed|ski...</td>\n",
       "      <td>540613</td>\n",
       "      <td>7155</td>\n",
       "      <td>308</td>\n",
       "      <td>1647</td>\n",
       "      <td>https://i.ytimg.com/vi/n_8hxS_7Vis/default.jpg</td>\n",
       "      <td>False</td>\n",
       "      <td>False</td>\n",
       "      <td>LeBron and the Lakers finally snapped their 3-...</td>\n",
       "      <td>n_8hxS_7Vis_2020-08-12</td>\n",
       "      <td>1112.0</td>\n",
       "      <td>True</td>\n",
       "      <td>0.013235</td>\n",
       "    </tr>\n",
       "    <tr>\n",
       "      <th>41</th>\n",
       "      <td>OQZ5ht79nEw</td>\n",
       "      <td>Answering Your Assumptions About Us... Merrell...</td>\n",
       "      <td>2020-08-11 17:29:52+00:00</td>\n",
       "      <td>UCwtnkRZcvL4bfopzJ-Von8Q</td>\n",
       "      <td>merrelltwins</td>\n",
       "      <td>23</td>\n",
       "      <td>2020-08-12</td>\n",
       "      <td>Merrell Twins|Twins|Merrell|Veronica Merrell|V...</td>\n",
       "      <td>430836</td>\n",
       "      <td>37754</td>\n",
       "      <td>256</td>\n",
       "      <td>4818</td>\n",
       "      <td>https://i.ytimg.com/vi/OQZ5ht79nEw/default.jpg</td>\n",
       "      <td>False</td>\n",
       "      <td>False</td>\n",
       "      <td>We answered your assumptions about us...Go to ...</td>\n",
       "      <td>OQZ5ht79nEw_2020-08-12</td>\n",
       "      <td>1083.0</td>\n",
       "      <td>True</td>\n",
       "      <td>0.087630</td>\n",
       "    </tr>\n",
       "  </tbody>\n",
       "</table>\n",
       "</div>"
      ],
      "text/plain": [
       "       video_id                                              title  \\\n",
       "40  n_8hxS_7Vis  Shannon reacts to Kyle Kuzma's game-winning sh...   \n",
       "41  OQZ5ht79nEw  Answering Your Assumptions About Us... Merrell...   \n",
       "\n",
       "                 publishedAt                 channelId  \\\n",
       "40 2020-08-11 16:21:47+00:00  UCLXzq85ijg2LwJWFrz4pkmw   \n",
       "41 2020-08-11 17:29:52+00:00  UCwtnkRZcvL4bfopzJ-Von8Q   \n",
       "\n",
       "                    channelTitle  categoryId trending_date  \\\n",
       "40  Skip and Shannon: UNDISPUTED          17    2020-08-12   \n",
       "41                  merrelltwins          23    2020-08-12   \n",
       "\n",
       "                                                 tags  view_count  likes  \\\n",
       "40  fox|fox sports|fs1|fox sports 1|undisputed|ski...      540613   7155   \n",
       "41  Merrell Twins|Twins|Merrell|Veronica Merrell|V...      430836  37754   \n",
       "\n",
       "    dislikes  comment_count                                  thumbnail_link  \\\n",
       "40       308           1647  https://i.ytimg.com/vi/n_8hxS_7Vis/default.jpg   \n",
       "41       256           4818  https://i.ytimg.com/vi/OQZ5ht79nEw/default.jpg   \n",
       "\n",
       "    comments_disabled  ratings_disabled  \\\n",
       "40              False             False   \n",
       "41              False             False   \n",
       "\n",
       "                                          description                      id  \\\n",
       "40  LeBron and the Lakers finally snapped their 3-...  n_8hxS_7Vis_2020-08-12   \n",
       "41  We answered your assumptions about us...Go to ...  OQZ5ht79nEw_2020-08-12   \n",
       "\n",
       "    duration_seconds  has_thumbnail    target  \n",
       "40            1112.0           True  0.013235  \n",
       "41            1083.0           True  0.087630  "
      ]
     },
     "execution_count": 31,
     "metadata": {},
     "output_type": "execute_result"
    }
   ],
   "source": [
    "train.head(2)"
   ]
  },
  {
   "cell_type": "code",
   "execution_count": 32,
   "metadata": {},
   "outputs": [],
   "source": [
    "train = normalize_feature(train,'likes')"
   ]
  },
  {
   "cell_type": "code",
   "execution_count": 33,
   "metadata": {},
   "outputs": [],
   "source": [
    "train = normalize_feature(train,'view_count')"
   ]
  },
  {
   "cell_type": "code",
   "execution_count": 34,
   "metadata": {},
   "outputs": [
    {
     "data": {
      "text/plain": [
       "40       [LeBron, and, the, Lakers, finally, snapped, t...\n",
       "41       [We, answered, your, assumptions, about, us......\n",
       "42       [ShhhhFOLLOW, ME, IN, THESE, PLACES, FOR, UPDA...\n",
       "43       [In, a, random, and, wild, sequence, of, event...\n",
       "44       [▷SUBSCRIBE, FOR, DAILY, VLOGS:, http://bit.ly...\n",
       "                               ...                        \n",
       "92267    [Olivia, Rodrigo, performs, “traitor”, at, the...\n",
       "92268    [Booking, travel, is, cheaper, on, Hopper., Do...\n",
       "92270                                            [#shorts]\n",
       "92272    [Contracter, email:, Los3topetes@gmail.comFOLL...\n",
       "92274    [In, today's, video, we, play, squid, games, w...\n",
       "Name: description, Length: 73525, dtype: object"
      ]
     },
     "execution_count": 34,
     "metadata": {},
     "output_type": "execute_result"
    }
   ],
   "source": [
    "train['description'].apply(lambda x: str(x).split())"
   ]
  },
  {
   "cell_type": "code",
   "execution_count": 35,
   "metadata": {},
   "outputs": [],
   "source": [
    "train['description_len'] = train['description'].apply(lambda x: len(str(x).split()))"
   ]
  },
  {
   "cell_type": "code",
   "execution_count": 36,
   "metadata": {},
   "outputs": [],
   "source": [
    "train['is_comments_disabled'] = np.where(train['comments_disabled'] == False, 0 ,1)\n",
    "train['is_ratings_disabled'] = np.where(train['ratings_disabled'] == False, 0 ,1)\n",
    "train['has_thumbnail'] = np.where(train['has_thumbnail'] == False, 0 ,1)"
   ]
  },
  {
   "cell_type": "code",
   "execution_count": 37,
   "metadata": {},
   "outputs": [],
   "source": [
    "train['has_thumbnail'] = np.where(train['has_thumbnail'] == False, 0 ,1)"
   ]
  },
  {
   "cell_type": "code",
   "execution_count": 38,
   "metadata": {},
   "outputs": [
    {
     "data": {
      "text/plain": [
       "<AxesSubplot:>"
      ]
     },
     "execution_count": 38,
     "metadata": {},
     "output_type": "execute_result"
    },
    {
     "data": {
      "image/png": "[encoded data removed]",
      "text/plain": [
       "<Figure size 720x432 with 1 Axes>"
      ]
     },
     "metadata": {
      "needs_background": "light"
     },
     "output_type": "display_data"
    }
   ],
   "source": [
    "plt.figure(figsize=(10,6))\n",
    "train.boxplot()"
   ]
  },
  {
   "cell_type": "code",
   "execution_count": 39,
   "metadata": {},
   "outputs": [
    {
     "data": {
      "text/plain": [
       "Index(['video_id', 'title', 'publishedAt', 'channelId', 'channelTitle',\n",
       "       'categoryId', 'trending_date', 'tags', 'view_count', 'likes',\n",
       "       'dislikes', 'comment_count', 'thumbnail_link', 'comments_disabled',\n",
       "       'ratings_disabled', 'description', 'id', 'duration_seconds',\n",
       "       'has_thumbnail', 'target', 'description_len', 'is_comments_disabled',\n",
       "       'is_ratings_disabled'],\n",
       "      dtype='object')"
      ]
     },
     "execution_count": 39,
     "metadata": {},
     "output_type": "execute_result"
    }
   ],
   "source": [
    "train.columns"
   ]
  },
  {
   "cell_type": "code",
   "execution_count": 40,
   "metadata": {},
   "outputs": [],
   "source": [
    "# train = convert_date(train,'trending_date')\n",
    "# train = convert_date(train,'publishedAt')"
   ]
  },
  {
   "cell_type": "code",
   "execution_count": 41,
   "metadata": {},
   "outputs": [],
   "source": [
    "train['tag_amt'] = train['tags'].apply(lambda x: len(x.split('|')))"
   ]
  },
  {
   "cell_type": "code",
   "execution_count": 42,
   "metadata": {},
   "outputs": [],
   "source": [
    "taglist = list(set(train['tags'].tolist()))"
   ]
  },
  {
   "cell_type": "code",
   "execution_count": 43,
   "metadata": {},
   "outputs": [
    {
     "data": {
      "text/plain": [
       "11642"
      ]
     },
     "execution_count": 43,
     "metadata": {},
     "output_type": "execute_result"
    }
   ],
   "source": [
    "len(taglist)"
   ]
  },
  {
   "cell_type": "code",
   "execution_count": 44,
   "metadata": {},
   "outputs": [],
   "source": [
    "taglist2 = []\n",
    "for tag in taglist:\n",
    "    tag = tag.split('|')\n",
    "    for t in tag:\n",
    "        taglist2.append(t)"
   ]
  },
  {
   "cell_type": "code",
   "execution_count": 45,
   "metadata": {},
   "outputs": [
    {
     "data": {
      "text/plain": [
       "236425"
      ]
     },
     "execution_count": 45,
     "metadata": {},
     "output_type": "execute_result"
    }
   ],
   "source": [
    "len(taglist2)"
   ]
  },
  {
   "cell_type": "code",
   "execution_count": 46,
   "metadata": {},
   "outputs": [],
   "source": [
    "from collections import Counter\n",
    "counted_words = Counter(taglist2)"
   ]
  },
  {
   "cell_type": "code",
   "execution_count": 47,
   "metadata": {},
   "outputs": [],
   "source": [
    "new_tags = sorted(counted_words.items(), key = lambda x: x[1],reverse = True)\n",
    "top100_tags= new_tags[0:101]\n",
    "top100_tags = [x[0] for x in top100_tags]\n"
   ]
  },
  {
   "cell_type": "code",
   "execution_count": 48,
   "metadata": {},
   "outputs": [],
   "source": [
    "for index, row in train.iterrows():\n",
    "    tagss = row['tags'].split('|')\n",
    "    for t in tagss:\n",
    "        if t in top100_tags:\n",
    "            train[t] = 1\n",
    "            continue\n",
    "    else:\n",
    "        train[t] = 0"
   ]
  },
  {
   "cell_type": "code",
   "execution_count": 49,
   "metadata": {},
   "outputs": [
    {
     "data": {
      "text/html": [
       "<div>\n",
       "<style scoped>\n",
       "    .dataframe tbody tr th:only-of-type {\n",
       "        vertical-align: middle;\n",
       "    }\n",
       "\n",
       "    .dataframe tbody tr th {\n",
       "        vertical-align: top;\n",
       "    }\n",
       "\n",
       "    .dataframe thead th {\n",
       "        text-align: right;\n",
       "    }\n",
       "</style>\n",
       "<table border=\"1\" class=\"dataframe\">\n",
       "  <thead>\n",
       "    <tr style=\"text-align: right;\">\n",
       "      <th></th>\n",
       "      <th>video_id</th>\n",
       "      <th>title</th>\n",
       "      <th>publishedAt</th>\n",
       "      <th>channelId</th>\n",
       "      <th>channelTitle</th>\n",
       "      <th>categoryId</th>\n",
       "      <th>trending_date</th>\n",
       "      <th>tags</th>\n",
       "      <th>view_count</th>\n",
       "      <th>likes</th>\n",
       "      <th>...</th>\n",
       "      <th>pokemon brilliant diamond shining pearl exploits</th>\n",
       "      <th>Matrix Part 2</th>\n",
       "      <th>barista asmr</th>\n",
       "      <th>back pay</th>\n",
       "      <th>dreamworks</th>\n",
       "      <th>Munir</th>\n",
       "      <th>cyber monday treadmills</th>\n",
       "      <th>Tichina Arnold Soul Train Awards</th>\n",
       "      <th>ROMAN TOO LIT</th>\n",
       "      <th>I was in MrBeast Squid Game</th>\n",
       "    </tr>\n",
       "  </thead>\n",
       "  <tbody>\n",
       "    <tr>\n",
       "      <th>40</th>\n",
       "      <td>n_8hxS_7Vis</td>\n",
       "      <td>Shannon reacts to Kyle Kuzma's game-winning sh...</td>\n",
       "      <td>2020-08-11 16:21:47+00:00</td>\n",
       "      <td>UCLXzq85ijg2LwJWFrz4pkmw</td>\n",
       "      <td>Skip and Shannon: UNDISPUTED</td>\n",
       "      <td>17</td>\n",
       "      <td>2020-08-12</td>\n",
       "      <td>fox|fox sports|fs1|fox sports 1|undisputed|ski...</td>\n",
       "      <td>540613</td>\n",
       "      <td>7155</td>\n",
       "      <td>...</td>\n",
       "      <td>0</td>\n",
       "      <td>0</td>\n",
       "      <td>0</td>\n",
       "      <td>0</td>\n",
       "      <td>0</td>\n",
       "      <td>0</td>\n",
       "      <td>0</td>\n",
       "      <td>0</td>\n",
       "      <td>0</td>\n",
       "      <td>0</td>\n",
       "    </tr>\n",
       "    <tr>\n",
       "      <th>41</th>\n",
       "      <td>OQZ5ht79nEw</td>\n",
       "      <td>Answering Your Assumptions About Us... Merrell...</td>\n",
       "      <td>2020-08-11 17:29:52+00:00</td>\n",
       "      <td>UCwtnkRZcvL4bfopzJ-Von8Q</td>\n",
       "      <td>merrelltwins</td>\n",
       "      <td>23</td>\n",
       "      <td>2020-08-12</td>\n",
       "      <td>Merrell Twins|Twins|Merrell|Veronica Merrell|V...</td>\n",
       "      <td>430836</td>\n",
       "      <td>37754</td>\n",
       "      <td>...</td>\n",
       "      <td>0</td>\n",
       "      <td>0</td>\n",
       "      <td>0</td>\n",
       "      <td>0</td>\n",
       "      <td>0</td>\n",
       "      <td>0</td>\n",
       "      <td>0</td>\n",
       "      <td>0</td>\n",
       "      <td>0</td>\n",
       "      <td>0</td>\n",
       "    </tr>\n",
       "    <tr>\n",
       "      <th>42</th>\n",
       "      <td>zHPVGSwLhcg</td>\n",
       "      <td>Unboxing Apple's $129 Luxury Cable</td>\n",
       "      <td>2020-08-11 14:42:43+00:00</td>\n",
       "      <td>UCsTcErHg8oDvUnTzoqsYeNw</td>\n",
       "      <td>Unbox Therapy</td>\n",
       "      <td>28</td>\n",
       "      <td>2020-08-12</td>\n",
       "      <td>unbox therapy|unboxtherapy|tech|technology|gad...</td>\n",
       "      <td>997102</td>\n",
       "      <td>60993</td>\n",
       "      <td>...</td>\n",
       "      <td>0</td>\n",
       "      <td>0</td>\n",
       "      <td>0</td>\n",
       "      <td>0</td>\n",
       "      <td>0</td>\n",
       "      <td>0</td>\n",
       "      <td>0</td>\n",
       "      <td>0</td>\n",
       "      <td>0</td>\n",
       "      <td>0</td>\n",
       "    </tr>\n",
       "    <tr>\n",
       "      <th>43</th>\n",
       "      <td>gi3VMMiFHVg</td>\n",
       "      <td>Giannis Gets Ejected After Headbutting Mo Wagner</td>\n",
       "      <td>2020-08-12 02:30:32+00:00</td>\n",
       "      <td>UC9-OpMMVoNP5o10_Iyq7Ndw</td>\n",
       "      <td>Bleacher Report</td>\n",
       "      <td>17</td>\n",
       "      <td>2020-08-12</td>\n",
       "      <td>bleacher report|br|nba|giannis|giannis antetok...</td>\n",
       "      <td>756814</td>\n",
       "      <td>8278</td>\n",
       "      <td>...</td>\n",
       "      <td>0</td>\n",
       "      <td>0</td>\n",
       "      <td>0</td>\n",
       "      <td>0</td>\n",
       "      <td>0</td>\n",
       "      <td>0</td>\n",
       "      <td>0</td>\n",
       "      <td>0</td>\n",
       "      <td>0</td>\n",
       "      <td>0</td>\n",
       "    </tr>\n",
       "    <tr>\n",
       "      <th>44</th>\n",
       "      <td>p6RatnMhDj8</td>\n",
       "      <td>I TOOK A PREGNANCY TEST...</td>\n",
       "      <td>2020-08-11 02:40:01+00:00</td>\n",
       "      <td>UCpGCAsPlArOj9ptyCszxOOg</td>\n",
       "      <td>ValeYas Vlogs</td>\n",
       "      <td>22</td>\n",
       "      <td>2020-08-12</td>\n",
       "      <td>valeyas|vlogs|daily vlogs|beautyybird|pregnanc...</td>\n",
       "      <td>143091</td>\n",
       "      <td>7159</td>\n",
       "      <td>...</td>\n",
       "      <td>0</td>\n",
       "      <td>0</td>\n",
       "      <td>0</td>\n",
       "      <td>0</td>\n",
       "      <td>0</td>\n",
       "      <td>0</td>\n",
       "      <td>0</td>\n",
       "      <td>0</td>\n",
       "      <td>0</td>\n",
       "      <td>0</td>\n",
       "    </tr>\n",
       "  </tbody>\n",
       "</table>\n",
       "<p>5 rows × 9691 columns</p>\n",
       "</div>"
      ],
      "text/plain": [
       "       video_id                                              title  \\\n",
       "40  n_8hxS_7Vis  Shannon reacts to Kyle Kuzma's game-winning sh...   \n",
       "41  OQZ5ht79nEw  Answering Your Assumptions About Us... Merrell...   \n",
       "42  zHPVGSwLhcg                 Unboxing Apple's $129 Luxury Cable   \n",
       "43  gi3VMMiFHVg   Giannis Gets Ejected After Headbutting Mo Wagner   \n",
       "44  p6RatnMhDj8                         I TOOK A PREGNANCY TEST...   \n",
       "\n",
       "                 publishedAt                 channelId  \\\n",
       "40 2020-08-11 16:21:47+00:00  UCLXzq85ijg2LwJWFrz4pkmw   \n",
       "41 2020-08-11 17:29:52+00:00  UCwtnkRZcvL4bfopzJ-Von8Q   \n",
       "42 2020-08-11 14:42:43+00:00  UCsTcErHg8oDvUnTzoqsYeNw   \n",
       "43 2020-08-12 02:30:32+00:00  UC9-OpMMVoNP5o10_Iyq7Ndw   \n",
       "44 2020-08-11 02:40:01+00:00  UCpGCAsPlArOj9ptyCszxOOg   \n",
       "\n",
       "                    channelTitle  categoryId trending_date  \\\n",
       "40  Skip and Shannon: UNDISPUTED          17    2020-08-12   \n",
       "41                  merrelltwins          23    2020-08-12   \n",
       "42                 Unbox Therapy          28    2020-08-12   \n",
       "43               Bleacher Report          17    2020-08-12   \n",
       "44                 ValeYas Vlogs          22    2020-08-12   \n",
       "\n",
       "                                                 tags  view_count  likes  ...  \\\n",
       "40  fox|fox sports|fs1|fox sports 1|undisputed|ski...      540613   7155  ...   \n",
       "41  Merrell Twins|Twins|Merrell|Veronica Merrell|V...      430836  37754  ...   \n",
       "42  unbox therapy|unboxtherapy|tech|technology|gad...      997102  60993  ...   \n",
       "43  bleacher report|br|nba|giannis|giannis antetok...      756814   8278  ...   \n",
       "44  valeyas|vlogs|daily vlogs|beautyybird|pregnanc...      143091   7159  ...   \n",
       "\n",
       "    pokemon brilliant diamond shining pearl exploits  Matrix Part 2  \\\n",
       "40                                                 0              0   \n",
       "41                                                 0              0   \n",
       "42                                                 0              0   \n",
       "43                                                 0              0   \n",
       "44                                                 0              0   \n",
       "\n",
       "   barista asmr  back pay  dreamworks Munir cyber monday treadmills  \\\n",
       "40            0         0           0     0                       0   \n",
       "41            0         0           0     0                       0   \n",
       "42            0         0           0     0                       0   \n",
       "43            0         0           0     0                       0   \n",
       "44            0         0           0     0                       0   \n",
       "\n",
       "    Tichina Arnold Soul Train Awards  ROMAN TOO LIT  \\\n",
       "40                                 0              0   \n",
       "41                                 0              0   \n",
       "42                                 0              0   \n",
       "43                                 0              0   \n",
       "44                                 0              0   \n",
       "\n",
       "    I was in MrBeast Squid Game  \n",
       "40                            0  \n",
       "41                            0  \n",
       "42                            0  \n",
       "43                            0  \n",
       "44                            0  \n",
       "\n",
       "[5 rows x 9691 columns]"
      ]
     },
     "execution_count": 49,
     "metadata": {},
     "output_type": "execute_result"
    }
   ],
   "source": [
    "train.head()"
   ]
  },
  {
   "cell_type": "code",
   "execution_count": 51,
   "metadata": {},
   "outputs": [],
   "source": [
    "drop_col = ['description','video_id','title','publishedAt','trending_date','tags'\n",
    "            ,'channelTitle','id','thumbnail_link','comments_disabled','ratings_disabled']"
   ]
  },
  {
   "cell_type": "code",
   "execution_count": 52,
   "metadata": {},
   "outputs": [],
   "source": [
    "train = train.drop(drop_col,1)"
   ]
  },
  {
   "cell_type": "code",
   "execution_count": 53,
   "metadata": {},
   "outputs": [],
   "source": [
    "## future engineering\n",
    "\n",
    "train = train.drop('channelId',1)"
   ]
  },
  {
   "cell_type": "code",
   "execution_count": 54,
   "metadata": {},
   "outputs": [
    {
     "data": {
      "text/plain": [
       "Index(['categoryId', 'view_count', 'likes', 'dislikes', 'comment_count',\n",
       "       'duration_seconds', 'has_thumbnail', 'target', 'description_len',\n",
       "       'is_comments_disabled',\n",
       "       ...\n",
       "       'pokemon brilliant diamond shining pearl exploits', 'Matrix Part 2',\n",
       "       'barista asmr', 'back pay', 'dreamworks', 'Munir',\n",
       "       'cyber monday treadmills', 'Tichina Arnold Soul Train Awards',\n",
       "       'ROMAN TOO LIT', 'I was in MrBeast Squid Game'],\n",
       "      dtype='object', length=9679)"
      ]
     },
     "execution_count": 54,
     "metadata": {},
     "output_type": "execute_result"
    }
   ],
   "source": [
    "train.columns"
   ]
  },
  {
   "cell_type": "code",
   "execution_count": 55,
   "metadata": {},
   "outputs": [
    {
     "name": "stdout",
     "output_type": "stream",
     "text": [
      "<class 'pandas.core.frame.DataFrame'>\n",
      "Int64Index: 73525 entries, 40 to 92274\n",
      "Columns: 9679 entries, categoryId to I was in MrBeast Squid Game\n",
      "dtypes: float64(2), int64(9677)\n",
      "memory usage: 5.3 GB\n"
     ]
    }
   ],
   "source": [
    "train.info()"
   ]
  },
  {
   "cell_type": "code",
   "execution_count": null,
   "metadata": {},
   "outputs": [],
   "source": []
  },
  {
   "cell_type": "code",
   "execution_count": 56,
   "metadata": {},
   "outputs": [
    {
     "name": "stderr",
     "output_type": "stream",
     "text": [
      "<ipython-input-56-f667b16cfe2b>:1: DeprecationWarning: Numeric-style type codes are deprecated and will result in an error in the future.\n",
      "  [x for x in train.columns if train[x].dtype == 'Bool']\n"
     ]
    },
    {
     "data": {
      "text/plain": [
       "[]"
      ]
     },
     "execution_count": 56,
     "metadata": {},
     "output_type": "execute_result"
    }
   ],
   "source": [
    "[x for x in train.columns if train[x].dtype == 'Bool']"
   ]
  },
  {
   "cell_type": "code",
   "execution_count": 57,
   "metadata": {},
   "outputs": [],
   "source": [
    "train.to_parquet('data/data.parquet',index=False)"
   ]
  },
  {
   "cell_type": "code",
   "execution_count": 58,
   "metadata": {},
   "outputs": [
    {
     "data": {
      "text/html": [
       "<div>\n",
       "<style scoped>\n",
       "    .dataframe tbody tr th:only-of-type {\n",
       "        vertical-align: middle;\n",
       "    }\n",
       "\n",
       "    .dataframe tbody tr th {\n",
       "        vertical-align: top;\n",
       "    }\n",
       "\n",
       "    .dataframe thead th {\n",
       "        text-align: right;\n",
       "    }\n",
       "</style>\n",
       "<table border=\"1\" class=\"dataframe\">\n",
       "  <thead>\n",
       "    <tr style=\"text-align: right;\">\n",
       "      <th></th>\n",
       "      <th>categoryId</th>\n",
       "      <th>view_count</th>\n",
       "      <th>likes</th>\n",
       "      <th>dislikes</th>\n",
       "      <th>comment_count</th>\n",
       "      <th>duration_seconds</th>\n",
       "      <th>has_thumbnail</th>\n",
       "      <th>target</th>\n",
       "      <th>description_len</th>\n",
       "      <th>is_comments_disabled</th>\n",
       "      <th>...</th>\n",
       "      <th>pokemon brilliant diamond shining pearl exploits</th>\n",
       "      <th>Matrix Part 2</th>\n",
       "      <th>barista asmr</th>\n",
       "      <th>back pay</th>\n",
       "      <th>dreamworks</th>\n",
       "      <th>Munir</th>\n",
       "      <th>cyber monday treadmills</th>\n",
       "      <th>Tichina Arnold Soul Train Awards</th>\n",
       "      <th>ROMAN TOO LIT</th>\n",
       "      <th>I was in MrBeast Squid Game</th>\n",
       "    </tr>\n",
       "  </thead>\n",
       "  <tbody>\n",
       "    <tr>\n",
       "      <th>0</th>\n",
       "      <td>17</td>\n",
       "      <td>540613</td>\n",
       "      <td>7155</td>\n",
       "      <td>308</td>\n",
       "      <td>1647</td>\n",
       "      <td>1112.0</td>\n",
       "      <td>1</td>\n",
       "      <td>0.013235</td>\n",
       "      <td>239</td>\n",
       "      <td>0</td>\n",
       "      <td>...</td>\n",
       "      <td>0</td>\n",
       "      <td>0</td>\n",
       "      <td>0</td>\n",
       "      <td>0</td>\n",
       "      <td>0</td>\n",
       "      <td>0</td>\n",
       "      <td>0</td>\n",
       "      <td>0</td>\n",
       "      <td>0</td>\n",
       "      <td>0</td>\n",
       "    </tr>\n",
       "    <tr>\n",
       "      <th>1</th>\n",
       "      <td>23</td>\n",
       "      <td>430836</td>\n",
       "      <td>37754</td>\n",
       "      <td>256</td>\n",
       "      <td>4818</td>\n",
       "      <td>1083.0</td>\n",
       "      <td>1</td>\n",
       "      <td>0.087630</td>\n",
       "      <td>70</td>\n",
       "      <td>0</td>\n",
       "      <td>...</td>\n",
       "      <td>0</td>\n",
       "      <td>0</td>\n",
       "      <td>0</td>\n",
       "      <td>0</td>\n",
       "      <td>0</td>\n",
       "      <td>0</td>\n",
       "      <td>0</td>\n",
       "      <td>0</td>\n",
       "      <td>0</td>\n",
       "      <td>0</td>\n",
       "    </tr>\n",
       "    <tr>\n",
       "      <th>2</th>\n",
       "      <td>28</td>\n",
       "      <td>997102</td>\n",
       "      <td>60993</td>\n",
       "      <td>8847</td>\n",
       "      <td>13810</td>\n",
       "      <td>438.0</td>\n",
       "      <td>0</td>\n",
       "      <td>0.061170</td>\n",
       "      <td>16</td>\n",
       "      <td>0</td>\n",
       "      <td>...</td>\n",
       "      <td>0</td>\n",
       "      <td>0</td>\n",
       "      <td>0</td>\n",
       "      <td>0</td>\n",
       "      <td>0</td>\n",
       "      <td>0</td>\n",
       "      <td>0</td>\n",
       "      <td>0</td>\n",
       "      <td>0</td>\n",
       "      <td>0</td>\n",
       "    </tr>\n",
       "    <tr>\n",
       "      <th>3</th>\n",
       "      <td>17</td>\n",
       "      <td>756814</td>\n",
       "      <td>8278</td>\n",
       "      <td>331</td>\n",
       "      <td>2441</td>\n",
       "      <td>164.0</td>\n",
       "      <td>0</td>\n",
       "      <td>0.010938</td>\n",
       "      <td>40</td>\n",
       "      <td>0</td>\n",
       "      <td>...</td>\n",
       "      <td>0</td>\n",
       "      <td>0</td>\n",
       "      <td>0</td>\n",
       "      <td>0</td>\n",
       "      <td>0</td>\n",
       "      <td>0</td>\n",
       "      <td>0</td>\n",
       "      <td>0</td>\n",
       "      <td>0</td>\n",
       "      <td>0</td>\n",
       "    </tr>\n",
       "    <tr>\n",
       "      <th>4</th>\n",
       "      <td>22</td>\n",
       "      <td>143091</td>\n",
       "      <td>7159</td>\n",
       "      <td>349</td>\n",
       "      <td>805</td>\n",
       "      <td>1572.0</td>\n",
       "      <td>0</td>\n",
       "      <td>0.050031</td>\n",
       "      <td>54</td>\n",
       "      <td>0</td>\n",
       "      <td>...</td>\n",
       "      <td>0</td>\n",
       "      <td>0</td>\n",
       "      <td>0</td>\n",
       "      <td>0</td>\n",
       "      <td>0</td>\n",
       "      <td>0</td>\n",
       "      <td>0</td>\n",
       "      <td>0</td>\n",
       "      <td>0</td>\n",
       "      <td>0</td>\n",
       "    </tr>\n",
       "    <tr>\n",
       "      <th>...</th>\n",
       "      <td>...</td>\n",
       "      <td>...</td>\n",
       "      <td>...</td>\n",
       "      <td>...</td>\n",
       "      <td>...</td>\n",
       "      <td>...</td>\n",
       "      <td>...</td>\n",
       "      <td>...</td>\n",
       "      <td>...</td>\n",
       "      <td>...</td>\n",
       "      <td>...</td>\n",
       "      <td>...</td>\n",
       "      <td>...</td>\n",
       "      <td>...</td>\n",
       "      <td>...</td>\n",
       "      <td>...</td>\n",
       "      <td>...</td>\n",
       "      <td>...</td>\n",
       "      <td>...</td>\n",
       "      <td>...</td>\n",
       "      <td>...</td>\n",
       "    </tr>\n",
       "    <tr>\n",
       "      <th>73520</th>\n",
       "      <td>10</td>\n",
       "      <td>2924486</td>\n",
       "      <td>224443</td>\n",
       "      <td>1628</td>\n",
       "      <td>6776</td>\n",
       "      <td>220.0</td>\n",
       "      <td>1</td>\n",
       "      <td>0.076746</td>\n",
       "      <td>326</td>\n",
       "      <td>0</td>\n",
       "      <td>...</td>\n",
       "      <td>0</td>\n",
       "      <td>0</td>\n",
       "      <td>0</td>\n",
       "      <td>0</td>\n",
       "      <td>0</td>\n",
       "      <td>0</td>\n",
       "      <td>0</td>\n",
       "      <td>0</td>\n",
       "      <td>0</td>\n",
       "      <td>0</td>\n",
       "    </tr>\n",
       "    <tr>\n",
       "      <th>73521</th>\n",
       "      <td>24</td>\n",
       "      <td>615401</td>\n",
       "      <td>42801</td>\n",
       "      <td>215</td>\n",
       "      <td>3022</td>\n",
       "      <td>1251.0</td>\n",
       "      <td>1</td>\n",
       "      <td>0.069550</td>\n",
       "      <td>67</td>\n",
       "      <td>0</td>\n",
       "      <td>...</td>\n",
       "      <td>0</td>\n",
       "      <td>0</td>\n",
       "      <td>0</td>\n",
       "      <td>0</td>\n",
       "      <td>0</td>\n",
       "      <td>0</td>\n",
       "      <td>0</td>\n",
       "      <td>0</td>\n",
       "      <td>0</td>\n",
       "      <td>0</td>\n",
       "    </tr>\n",
       "    <tr>\n",
       "      <th>73522</th>\n",
       "      <td>23</td>\n",
       "      <td>536056</td>\n",
       "      <td>109352</td>\n",
       "      <td>550</td>\n",
       "      <td>4374</td>\n",
       "      <td>59.0</td>\n",
       "      <td>1</td>\n",
       "      <td>0.203994</td>\n",
       "      <td>1</td>\n",
       "      <td>0</td>\n",
       "      <td>...</td>\n",
       "      <td>0</td>\n",
       "      <td>0</td>\n",
       "      <td>0</td>\n",
       "      <td>0</td>\n",
       "      <td>0</td>\n",
       "      <td>0</td>\n",
       "      <td>0</td>\n",
       "      <td>0</td>\n",
       "      <td>0</td>\n",
       "      <td>0</td>\n",
       "    </tr>\n",
       "    <tr>\n",
       "      <th>73523</th>\n",
       "      <td>1</td>\n",
       "      <td>194119</td>\n",
       "      <td>14569</td>\n",
       "      <td>180</td>\n",
       "      <td>5276</td>\n",
       "      <td>824.0</td>\n",
       "      <td>1</td>\n",
       "      <td>0.075052</td>\n",
       "      <td>11</td>\n",
       "      <td>0</td>\n",
       "      <td>...</td>\n",
       "      <td>0</td>\n",
       "      <td>0</td>\n",
       "      <td>0</td>\n",
       "      <td>0</td>\n",
       "      <td>0</td>\n",
       "      <td>0</td>\n",
       "      <td>0</td>\n",
       "      <td>0</td>\n",
       "      <td>0</td>\n",
       "      <td>0</td>\n",
       "    </tr>\n",
       "    <tr>\n",
       "      <th>73524</th>\n",
       "      <td>24</td>\n",
       "      <td>751638</td>\n",
       "      <td>16519</td>\n",
       "      <td>1935</td>\n",
       "      <td>1432</td>\n",
       "      <td>1032.0</td>\n",
       "      <td>0</td>\n",
       "      <td>0.021977</td>\n",
       "      <td>239</td>\n",
       "      <td>0</td>\n",
       "      <td>...</td>\n",
       "      <td>0</td>\n",
       "      <td>0</td>\n",
       "      <td>0</td>\n",
       "      <td>0</td>\n",
       "      <td>0</td>\n",
       "      <td>0</td>\n",
       "      <td>0</td>\n",
       "      <td>0</td>\n",
       "      <td>0</td>\n",
       "      <td>0</td>\n",
       "    </tr>\n",
       "  </tbody>\n",
       "</table>\n",
       "<p>73525 rows × 9679 columns</p>\n",
       "</div>"
      ],
      "text/plain": [
       "       categoryId  view_count   likes  dislikes  comment_count  \\\n",
       "0              17      540613    7155       308           1647   \n",
       "1              23      430836   37754       256           4818   \n",
       "2              28      997102   60993      8847          13810   \n",
       "3              17      756814    8278       331           2441   \n",
       "4              22      143091    7159       349            805   \n",
       "...           ...         ...     ...       ...            ...   \n",
       "73520          10     2924486  224443      1628           6776   \n",
       "73521          24      615401   42801       215           3022   \n",
       "73522          23      536056  109352       550           4374   \n",
       "73523           1      194119   14569       180           5276   \n",
       "73524          24      751638   16519      1935           1432   \n",
       "\n",
       "       duration_seconds  has_thumbnail    target  description_len  \\\n",
       "0                1112.0              1  0.013235              239   \n",
       "1                1083.0              1  0.087630               70   \n",
       "2                 438.0              0  0.061170               16   \n",
       "3                 164.0              0  0.010938               40   \n",
       "4                1572.0              0  0.050031               54   \n",
       "...                 ...            ...       ...              ...   \n",
       "73520             220.0              1  0.076746              326   \n",
       "73521            1251.0              1  0.069550               67   \n",
       "73522              59.0              1  0.203994                1   \n",
       "73523             824.0              1  0.075052               11   \n",
       "73524            1032.0              0  0.021977              239   \n",
       "\n",
       "       is_comments_disabled  ...  \\\n",
       "0                         0  ...   \n",
       "1                         0  ...   \n",
       "2                         0  ...   \n",
       "3                         0  ...   \n",
       "4                         0  ...   \n",
       "...                     ...  ...   \n",
       "73520                     0  ...   \n",
       "73521                     0  ...   \n",
       "73522                     0  ...   \n",
       "73523                     0  ...   \n",
       "73524                     0  ...   \n",
       "\n",
       "       pokemon brilliant diamond shining pearl exploits  Matrix Part 2  \\\n",
       "0                                                     0              0   \n",
       "1                                                     0              0   \n",
       "2                                                     0              0   \n",
       "3                                                     0              0   \n",
       "4                                                     0              0   \n",
       "...                                                 ...            ...   \n",
       "73520                                                 0              0   \n",
       "73521                                                 0              0   \n",
       "73522                                                 0              0   \n",
       "73523                                                 0              0   \n",
       "73524                                                 0              0   \n",
       "\n",
       "       barista asmr  back pay  dreamworks  Munir  cyber monday treadmills  \\\n",
       "0                 0         0           0      0                        0   \n",
       "1                 0         0           0      0                        0   \n",
       "2                 0         0           0      0                        0   \n",
       "3                 0         0           0      0                        0   \n",
       "4                 0         0           0      0                        0   \n",
       "...             ...       ...         ...    ...                      ...   \n",
       "73520             0         0           0      0                        0   \n",
       "73521             0         0           0      0                        0   \n",
       "73522             0         0           0      0                        0   \n",
       "73523             0         0           0      0                        0   \n",
       "73524             0         0           0      0                        0   \n",
       "\n",
       "       Tichina Arnold Soul Train Awards  ROMAN TOO LIT  \\\n",
       "0                                     0              0   \n",
       "1                                     0              0   \n",
       "2                                     0              0   \n",
       "3                                     0              0   \n",
       "4                                     0              0   \n",
       "...                                 ...            ...   \n",
       "73520                                 0              0   \n",
       "73521                                 0              0   \n",
       "73522                                 0              0   \n",
       "73523                                 0              0   \n",
       "73524                                 0              0   \n",
       "\n",
       "       I was in MrBeast Squid Game  \n",
       "0                                0  \n",
       "1                                0  \n",
       "2                                0  \n",
       "3                                0  \n",
       "4                                0  \n",
       "...                            ...  \n",
       "73520                            0  \n",
       "73521                            0  \n",
       "73522                            0  \n",
       "73523                            0  \n",
       "73524                            0  \n",
       "\n",
       "[73525 rows x 9679 columns]"
      ]
     },
     "execution_count": 58,
     "metadata": {},
     "output_type": "execute_result"
    }
   ],
   "source": [
    "#pd.read_parquet('data/data.parquet',)"
   ]
  },
  {
   "cell_type": "code",
   "execution_count": null,
   "metadata": {},
   "outputs": [],
   "source": []
  },
  {
   "cell_type": "code",
   "execution_count": null,
   "metadata": {},
   "outputs": [],
   "source": []
  },
  {
   "cell_type": "code",
   "execution_count": null,
   "metadata": {},
   "outputs": [],
   "source": []
  },
  {
   "cell_type": "code",
   "execution_count": null,
   "metadata": {},
   "outputs": [],
   "source": []
  },
  {
   "cell_type": "code",
   "execution_count": null,
   "metadata": {},
   "outputs": [],
   "source": []
  },
  {
   "cell_type": "code",
   "execution_count": null,
   "metadata": {},
   "outputs": [],
   "source": []
  },
  {
   "cell_type": "code",
   "execution_count": null,
   "metadata": {},
   "outputs": [],
   "source": []
  },
  {
   "cell_type": "code",
   "execution_count": null,
   "metadata": {},
   "outputs": [],
   "source": []
  }
 ],
 "metadata": {
  "kernelspec": {
   "display_name": "Python 3",
   "language": "python",
   "name": "python3"
  },
  "language_info": {
   "codemirror_mode": {
    "name": "ipython",
    "version": 3
   },
   "file_extension": ".py",
   "mimetype": "text/x-python",
   "name": "python",
   "nbconvert_exporter": "python",
   "pygments_lexer": "ipython3",
   "version": "3.9.0"
  }
 },
 "nbformat": 4,
 "nbformat_minor": 4
}
